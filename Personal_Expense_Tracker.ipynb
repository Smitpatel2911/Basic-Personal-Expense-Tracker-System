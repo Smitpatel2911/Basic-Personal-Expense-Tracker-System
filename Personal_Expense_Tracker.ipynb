{
 "cells": [
  {
   "cell_type": "markdown",
   "metadata": {},
   "source": [
    "Personal Expense Tracker\n",
    "\n",
    "Concepts Used:\n",
    "\n",
    "Basics (variables, input/output)\n",
    "Datatypes (lists, dictionaries)\n",
    "datetime (track dates of expenses)\n",
    "\n",
    "Description:\n",
    "\n",
    "Create a program to manage personal expenses.\n",
    "Users can add, view, edit, and delete expenses.\n",
    "Include options to generate monthly expense reports.\n",
    "\n",
    "Extension Ideas:\n",
    "\n",
    "Save data to a file (os module).\n",
    "Add charts using a library like matplotlib."
   ]
  },
  {
   "cell_type": "code",
   "execution_count": 2,
   "metadata": {},
   "outputs": [],
   "source": [
    "import datetime\n",
    "import os\n",
    "\n",
    "Tracker = [] # to store expenses"
   ]
  },
  {
   "cell_type": "markdown",
   "metadata": {},
   "source": [
    "function to add expense to tracker storage\n"
   ]
  },
  {
   "cell_type": "code",
   "execution_count": 3,
   "metadata": {},
   "outputs": [],
   "source": [
    "from datetime import date \n",
    "d1 = str(date.today())\n",
    "\n",
    "def add_expense(amount_spent, category, payment_method, description, date1=d1):\n",
    "    '''Helpful to add expense'''\n",
    "    \n",
    "    # creating dictionary to add as expense\n",
    "    expense = {\n",
    "        \"Id\" : len(Tracker) + 1,\n",
    "        \"Amount\" : amount_spent,\n",
    "        \"Category\" : category,\n",
    "        \"Payment\" : payment_method,\n",
    "        \"Description\" : description,\n",
    "        \"Date\" : date1,\n",
    "    }\n",
    "    Tracker.append(expense)\n",
    "    print(\"Expense added Successfully...\")  "
   ]
  },
  {
   "cell_type": "markdown",
   "metadata": {},
   "source": [
    "To see the expense on the screen "
   ]
  },
  {
   "cell_type": "code",
   "execution_count": 4,
   "metadata": {},
   "outputs": [],
   "source": [
    "def view():\n",
    "    for exp in Tracker:\n",
    "        if len(exp[\"Description\"]) == 0:\n",
    "            print(f\"{exp[\"Id\"]}.For {exp[\"Category\"]} in Rs.{exp[\"Amount\"]} by {exp[\"Payment\"]} on {exp[\"Date\"]}.\")\n",
    "        else:\n",
    "            print(f\"{exp[\"Id\"]}.For {exp[\"Category\"]} in Rs.{exp[\"Amount\"]} by {exp[\"Payment\"]} on {exp[\"Date\"]} due to --> {exp[\"Description\"]}.\")\n",
    "    return"
   ]
  },
  {
   "cell_type": "markdown",
   "metadata": {},
   "source": [
    "function to remove any expense using their ids"
   ]
  },
  {
   "cell_type": "code",
   "execution_count": 5,
   "metadata": {},
   "outputs": [],
   "source": [
    "def rm_expense(id):\n",
    "    \"\"\"Help to remove the expense\"\"\"\n",
    "    if id > len(Tracker):\n",
    "        print(\"Not Available\")\n",
    "    else:\n",
    "        for expense in Tracker:\n",
    "            if expense[\"Id\"] == id:\n",
    "                Tracker.remove(expense)\n",
    "                print(f\"Expense Id {id} was removed sucessfully....\")\n",
    "            # elif expense[\"Id\"] > id :\n",
    "                # expense[\"Id\"] -= 1"
   ]
  },
  {
   "cell_type": "code",
   "execution_count": 6,
   "metadata": {},
   "outputs": [],
   "source": [
    "def edit_expense(id,property,value):\n",
    "    \"\"\"Help to edit expense\"\"\"\n",
    "    for exp in Tracker:\n",
    "        if exp[\"Id\"] == id:\n",
    "            exp[property] = value\n",
    "            print(\"Changed Sucessfuly...\")\n",
    "    return"
   ]
  },
  {
   "cell_type": "code",
   "execution_count": 7,
   "metadata": {},
   "outputs": [],
   "source": [
    "def generate_report(month,year):\n",
    "    \"\"\"help to create a text report.\"\"\"\n",
    "    from datetime import datetime\n",
    "    \n",
    "    repo_date = datetime.now().strftime('%Y-%m-%d')\n",
    "    report = f\"Expense Report for {month}-{year}\\n\"\n",
    "    report += f\"Generated on : {repo_date}\\n\"\n",
    "    total = 0\n",
    "    categories = {}\n",
    "    \n",
    "    # looping for getting month provided by user\n",
    "    for expense in Tracker:\n",
    "        exp_date = datetime.strptime(expense[\"Date\"], \"%Y-%m-%d\") #converting date formate from str\n",
    "        if exp_date.month == month and exp_date.year == year:\n",
    "            total += expense[\"Amount\"] #computing Total monthly expense\n",
    "            categories[expense[\"Category\"]] = categories.get(expense[\"Category\"], 0) + expense[\"Amount\"]\n",
    "    report += f\"Total Spent: {total}\\n\"\n",
    "    for cat, amt in categories.items():\n",
    "        report += f\"{cat}: {amt}\\n\"\n",
    "        \n",
    "    # using the file handling creating report as text file\n",
    "    with open(f\"report_{month}_{year}.txt\", \"w\") as file:\n",
    "        file.write(report)"
   ]
  },
  {
   "cell_type": "code",
   "execution_count": 8,
   "metadata": {},
   "outputs": [],
   "source": [
    "def visualize_report(month, year):\n",
    "    from matplotlib import pyplot as plt\n",
    "    from datetime import datetime\n",
    "    \"\"\"For providing graphical representation to user\"\"\"\n",
    "    report = \"\"\n",
    "    total = 0\n",
    "    categories = {}\n",
    "\n",
    "    for expense in Tracker:\n",
    "        exp_date = datetime.strptime(expense[\"Date\"], \"%Y-%m-%d\") #converting date formate from str\n",
    "        if exp_date.month == month and exp_date.year == year:\n",
    "            total += expense[\"Amount\"] #computing Total monthly expense\n",
    "            categories[expense[\"Category\"]] = categories.get(expense[\"Category\"], 0) + expense[\"Amount\"]\n",
    "    report += f\"Total Spent: {total}\\n\"\n",
    "    cate = list(categories.keys())\n",
    "    val = list(categories.values())\n",
    "    plt.plot(cate,val)\n",
    "    Graph = plt.show()\n",
    "    report += Graph\n",
    "    with open(f\"report_{month}_{year}.txt\", \"w\") as file:\n",
    "        file.write(report)"
   ]
  },
  {
   "cell_type": "markdown",
   "metadata": {},
   "source": [
    "<strong>User Friendly Interface</strong><br>\n"
   ]
  },
  {
   "cell_type": "code",
   "execution_count": 8,
   "metadata": {
    "slideshow": {
     "slide_type": "slide"
    }
   },
   "outputs": [
    {
     "name": "stdout",
     "output_type": "stream",
     "text": [
      "Hello Dear User,\n",
      "According to Your Ask choice option from the following.\n",
      "Also give answer in A, B, C, D, E....\n",
      " [A] Add Expense.\n",
      " [B] Remove/Delete Expense.\n",
      " [C] View Expenses.\n",
      " [D] Edit Expense.\n",
      " [E] Generate Monthly Report.\n",
      " [F] Visualized Report.\n",
      " [G] Visualized The Report.\n",
      "Expense added Successfully...\n",
      "Are you want to continue or do work on the expense...\n",
      "    Yes --> choice = Y\n",
      "    No --> choice = N\n",
      "Expense added Successfully...\n",
      "Are you want to continue or do work on the expense...\n",
      "    Yes --> choice = Y\n",
      "    No --> choice = N\n",
      "Expense added Successfully...\n",
      "Are you want to continue or do work on the expense...\n",
      "    Yes --> choice = Y\n",
      "    No --> choice = N\n",
      "Expense added Successfully...\n",
      "Are you want to continue or do work on the expense...\n",
      "    Yes --> choice = Y\n",
      "    No --> choice = N\n",
      "Expense added Successfully...\n",
      "Are you want to continue or do work on the expense...\n",
      "    Yes --> choice = Y\n",
      "    No --> choice = N\n",
      "Expense added Successfully...\n",
      "Are you want to continue or do work on the expense...\n",
      "    Yes --> choice = Y\n",
      "    No --> choice = N\n",
      "1.For food in Rs.1200 by upi on 2025-01-28.\n",
      "2.For edu in Rs.350 by cash on 2025-01-28.\n",
      "3.For rent in Rs.4500 by g-pay on 2025-01-28.\n",
      "4.For gas bill in Rs.780 by p-pAY on 2025-01-28.\n",
      "5.For ELE. BILL in Rs.1480 by P-PAY on 2025-01-28.\n",
      "6.For TAX in Rs.380 by P-PAY on 2025-01-28.\n",
      "Are you want to continue or do work on the expense...\n",
      "    Yes --> choice = Y\n",
      "    No --> choice = N\n"
     ]
    }
   ],
   "source": [
    "print('''Hello Dear User,\n",
    "According to Your Ask choice option from the following.\n",
    "Also give answer in A, B, C, D, E....\n",
    " [A] Add Expense.\n",
    " [B] Remove/Delete Expense.\n",
    " [C] View Expenses.\n",
    " [D] Edit Expense.\n",
    " [E] Generate Monthly Report.\n",
    " [F] Visualized Report.\n",
    " [G] Visualized The Report.''')\n",
    "\n",
    "next = True\n",
    "while (next == True):\n",
    "    User = input(\"Enter Your Choise :\")\n",
    "\n",
    "    if User == 'A':\n",
    "        amount = int(input(\"Enter the amount of expense = \"))\n",
    "        categori = input(\"Enter the Category of the expense :\")\n",
    "        method = input(\"Enter the method of payment[eg:UPI,cash...] :\")\n",
    "        Describe = input(\"Enter the description of expense :\") \n",
    "        add_expense(amount, categori, method, Describe)\n",
    "\n",
    "    elif User == 'B':\n",
    "        print(\"Note: If you donot know the id then choice [C] \")\n",
    "        idx = int(input(\"Enter the expense id :\"))\n",
    "        rm_expense(idx)\n",
    "\n",
    "    elif User == 'C':\n",
    "        view()\n",
    "\n",
    "    elif User == 'D':\n",
    "        print(\"Note: If you donot know the id then choice [C] \")\n",
    "        idx = int(input(\"Enter the expense id :\"))\n",
    "        prop = input(\"Enter the property which should be edited : \")\n",
    "        val = input(\"Enter new property value : \")\n",
    "        edit_expense(idx,prop,val)\n",
    "\n",
    "    elif User == 'E':\n",
    "        mon = int(input(\"Enter the month of the report = \"))\n",
    "        years = int(input(\"Enter the year of the report = \"))\n",
    "        generate_report(mon,years)\n",
    "\n",
    "    elif User == \"F\":\n",
    "        mon = int(input(\"Enter the month of the report = \"))\n",
    "        years = int(input(\"Enter the year of the report = \"))\n",
    "        visualize_report(mon,years)\n",
    "    \n",
    "    elif User == \"G\":\n",
    "        mon = int(input(\"Enter the month of the report = \"))\n",
    "        years = int(input(\"Enter the year of the report = \"))\n",
    "        \n",
    "    else:\n",
    "        print(\"Invalid Input\")\n",
    "\n",
    "    print('''Are you want to continue or do work on the expense...\n",
    "    Yes --> choice = Y\n",
    "    No --> choice = N''')\n",
    "    choice = input (\"Enter your choice : \")\n",
    "    if choice == 'Y':\n",
    "        pass\n",
    "    elif choice == 'N':\n",
    "        next = False"
   ]
  },
  {
   "cell_type": "code",
   "execution_count": null,
   "metadata": {},
   "outputs": [],
   "source": []
  }
 ],
 "metadata": {
  "kernelspec": {
   "display_name": "Python 3",
   "language": "python",
   "name": "python3"
  },
  "language_info": {
   "codemirror_mode": {
    "name": "ipython",
    "version": 3
   },
   "file_extension": ".py",
   "mimetype": "text/x-python",
   "name": "python",
   "nbconvert_exporter": "python",
   "pygments_lexer": "ipython3",
   "version": "3.13.1"
  }
 },
 "nbformat": 4,
 "nbformat_minor": 2
}
